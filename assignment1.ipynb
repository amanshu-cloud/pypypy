{
  "nbformat": 4,
  "nbformat_minor": 0,
  "metadata": {
    "colab": {
      "name": "assign1.ipynb",
      "provenance": [],
      "authorship_tag": "ABX9TyNdDw6vaFjFscCsKvbjRcst",
      "include_colab_link": true
    },
    "kernelspec": {
      "name": "python3",
      "display_name": "Python 3"
    }
  },
  "cells": [
    {
      "cell_type": "markdown",
      "metadata": {
        "id": "view-in-github",
        "colab_type": "text"
      },
      "source": [
        "<a href=\"https://colab.research.google.com/github/amanshu-cloud/pypypy/blob/master/assignment1.ipynb\" target=\"_parent\"><img src=\"https://colab.research.google.com/assets/colab-badge.svg\" alt=\"Open In Colab\"/></a>"
      ]
    },
    {
      "cell_type": "code",
      "metadata": {
        "id": "NVN6DacaR20E",
        "colab_type": "code",
        "colab": {}
      },
      "source": [
        "def result(main,sub):\n",
        "  for i in range(len(main)):\n",
        "  for j in range(i+1,len(main)+1):\n",
        "    if len(main[i:j])==len(sub):\n",
        "      if main[i:j]==sub:\n",
        "        print(\"YES\")\n",
        "        return\n",
        "      else:\n",
        "        print(\"NO\")\n",
        "        return\n",
        "  "
      ],
      "execution_count": null,
      "outputs": []
    }
  ]
}